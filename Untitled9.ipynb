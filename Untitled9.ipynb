{
 "cells": [
  {
   "cell_type": "code",
   "execution_count": 9,
   "metadata": {},
   "outputs": [],
   "source": [
    "from keras.models import Input, Model\n",
    "from keras.layers import Conv2D, Concatenate, MaxPooling2D, Conv2DTranspose\n",
    "from keras.layers import UpSampling2D, Dropout, BatchNormalization\n",
    "\n",
    "'''\n",
    "U-Net:\n",
    "img_shape: (height, width, channels)\n",
    "out_ch: number of output channels\n",
    "start_ch: number of channels of the first conv\n",
    "depth: zero indexed depth of the U-structure\n",
    "inc_rate: rate at which the conv channels will increase\n",
    "activation: activation function after convolutions\n",
    "dropout: amount of dropout in the contracting part\n",
    "batchnorm: adds Batch Normalization if true\n",
    "maxpool: use strided conv instead of maxpooling if false\n",
    "upconv: use transposed conv instead of upsamping + conv if false\n",
    "residual: add residual connections around each conv block if true\n",
    "'''\n",
    "\n",
    "def conv_block(m, dim, acti, bn, res, do=0):\n",
    "    n = Conv2D(dim, 3, activation=acti, padding='same')(m)\n",
    "    n = BatchNormalization()(n) if bn else n\n",
    "    n = Dropout(do)(n) if do else n\n",
    "    n = Conv2D(dim, 3, activation=acti, padding='same')(n)\n",
    "    n = BatchNormalization()(n) if bn else n\n",
    "    return Concatenate()([m, n]) if res else n\n",
    "\n",
    "def level_block(m, dim, depth, inc, acti, do, bn, mp, up, res):\n",
    "    if depth > 0:\n",
    "        n = conv_block(m, dim, acti, bn, res)\n",
    "        m = MaxPooling2D()(n) if mp else Conv2D(dim, 3, strides=2, padding='same')(n)\n",
    "        m = level_block(m, int(inc*dim), depth-1, inc, acti, do, bn, mp, up, res)\n",
    "        if up:\n",
    "            m = UpSampling2D()(m)\n",
    "            m = Conv2D(dim, 2, activation=acti, padding='same')(m)\n",
    "        else:\n",
    "            m = Conv2DTranspose(dim, 3, strides=2, activation=acti, padding='same')(m)\n",
    "        n = Concatenate()([n, m])\n",
    "        m = conv_block(n, dim, acti, bn, res)\n",
    "    else:\n",
    "        m = conv_block(m, dim, acti, bn, res, do)\n",
    "    return m\n",
    "\n",
    "def UNet(img_shape, out_ch=1, start_ch=64, depth=4, inc_rate=2., activation='relu',\n",
    "         dropout=0.5, batchnorm=False, maxpool=True, upconv=False, residual=False):\n",
    "    i = Input(shape=img_shape)\n",
    "    o = level_block(i, start_ch, depth, inc_rate, activation, dropout, batchnorm, maxpool, upconv, residual)\n",
    "    o = Conv2D(out_ch, 1, activation='sigmoid')(o)\n",
    "    return Model(inputs=i, outputs=o)"
   ]
  },
  {
   "cell_type": "code",
   "execution_count": 10,
   "metadata": {},
   "outputs": [
    {
     "name": "stdout",
     "output_type": "stream",
     "text": [
      "__________________________________________________________________________________________________\n",
      "Layer (type)                    Output Shape         Param #     Connected to                     \n",
      "==================================================================================================\n",
      "input_3 (InputLayer)            (None, 256, 256, 3)  0                                            \n",
      "__________________________________________________________________________________________________\n",
      "conv2d_34 (Conv2D)              (None, 256, 256, 64) 1792        input_3[0][0]                    \n",
      "__________________________________________________________________________________________________\n",
      "conv2d_35 (Conv2D)              (None, 256, 256, 64) 36928       conv2d_34[0][0]                  \n",
      "__________________________________________________________________________________________________\n",
      "max_pooling2d_9 (MaxPooling2D)  (None, 128, 128, 64) 0           conv2d_35[0][0]                  \n",
      "__________________________________________________________________________________________________\n",
      "conv2d_36 (Conv2D)              (None, 128, 128, 128 73856       max_pooling2d_9[0][0]            \n",
      "__________________________________________________________________________________________________\n",
      "conv2d_37 (Conv2D)              (None, 128, 128, 128 147584      conv2d_36[0][0]                  \n",
      "__________________________________________________________________________________________________\n",
      "max_pooling2d_10 (MaxPooling2D) (None, 64, 64, 128)  0           conv2d_37[0][0]                  \n",
      "__________________________________________________________________________________________________\n",
      "conv2d_38 (Conv2D)              (None, 64, 64, 256)  295168      max_pooling2d_10[0][0]           \n",
      "__________________________________________________________________________________________________\n",
      "conv2d_39 (Conv2D)              (None, 64, 64, 256)  590080      conv2d_38[0][0]                  \n",
      "__________________________________________________________________________________________________\n",
      "max_pooling2d_11 (MaxPooling2D) (None, 32, 32, 256)  0           conv2d_39[0][0]                  \n",
      "__________________________________________________________________________________________________\n",
      "conv2d_40 (Conv2D)              (None, 32, 32, 512)  1180160     max_pooling2d_11[0][0]           \n",
      "__________________________________________________________________________________________________\n",
      "conv2d_41 (Conv2D)              (None, 32, 32, 512)  2359808     conv2d_40[0][0]                  \n",
      "__________________________________________________________________________________________________\n",
      "max_pooling2d_12 (MaxPooling2D) (None, 16, 16, 512)  0           conv2d_41[0][0]                  \n",
      "__________________________________________________________________________________________________\n",
      "conv2d_42 (Conv2D)              (None, 16, 16, 1024) 4719616     max_pooling2d_12[0][0]           \n",
      "__________________________________________________________________________________________________\n",
      "dropout_3 (Dropout)             (None, 16, 16, 1024) 0           conv2d_42[0][0]                  \n",
      "__________________________________________________________________________________________________\n",
      "conv2d_43 (Conv2D)              (None, 16, 16, 1024) 9438208     dropout_3[0][0]                  \n",
      "__________________________________________________________________________________________________\n",
      "conv2d_transpose_1 (Conv2DTrans (None, 32, 32, 512)  4719104     conv2d_43[0][0]                  \n",
      "__________________________________________________________________________________________________\n",
      "concatenate_5 (Concatenate)     (None, 32, 32, 1024) 0           conv2d_41[0][0]                  \n",
      "                                                                 conv2d_transpose_1[0][0]         \n",
      "__________________________________________________________________________________________________\n",
      "conv2d_44 (Conv2D)              (None, 32, 32, 512)  4719104     concatenate_5[0][0]              \n",
      "__________________________________________________________________________________________________\n",
      "conv2d_45 (Conv2D)              (None, 32, 32, 512)  2359808     conv2d_44[0][0]                  \n",
      "__________________________________________________________________________________________________\n",
      "conv2d_transpose_2 (Conv2DTrans (None, 64, 64, 256)  1179904     conv2d_45[0][0]                  \n",
      "__________________________________________________________________________________________________\n",
      "concatenate_6 (Concatenate)     (None, 64, 64, 512)  0           conv2d_39[0][0]                  \n",
      "                                                                 conv2d_transpose_2[0][0]         \n",
      "__________________________________________________________________________________________________\n",
      "conv2d_46 (Conv2D)              (None, 64, 64, 256)  1179904     concatenate_6[0][0]              \n",
      "__________________________________________________________________________________________________\n",
      "conv2d_47 (Conv2D)              (None, 64, 64, 256)  590080      conv2d_46[0][0]                  \n",
      "__________________________________________________________________________________________________\n",
      "conv2d_transpose_3 (Conv2DTrans (None, 128, 128, 128 295040      conv2d_47[0][0]                  \n",
      "__________________________________________________________________________________________________\n",
      "concatenate_7 (Concatenate)     (None, 128, 128, 256 0           conv2d_37[0][0]                  \n",
      "                                                                 conv2d_transpose_3[0][0]         \n",
      "__________________________________________________________________________________________________\n",
      "conv2d_48 (Conv2D)              (None, 128, 128, 128 295040      concatenate_7[0][0]              \n",
      "__________________________________________________________________________________________________\n",
      "conv2d_49 (Conv2D)              (None, 128, 128, 128 147584      conv2d_48[0][0]                  \n",
      "__________________________________________________________________________________________________\n",
      "conv2d_transpose_4 (Conv2DTrans (None, 256, 256, 64) 73792       conv2d_49[0][0]                  \n",
      "__________________________________________________________________________________________________\n",
      "concatenate_8 (Concatenate)     (None, 256, 256, 128 0           conv2d_35[0][0]                  \n",
      "                                                                 conv2d_transpose_4[0][0]         \n",
      "__________________________________________________________________________________________________\n",
      "conv2d_50 (Conv2D)              (None, 256, 256, 64) 73792       concatenate_8[0][0]              \n",
      "__________________________________________________________________________________________________\n",
      "conv2d_51 (Conv2D)              (None, 256, 256, 64) 36928       conv2d_50[0][0]                  \n",
      "__________________________________________________________________________________________________\n",
      "conv2d_52 (Conv2D)              (None, 256, 256, 1)  65          conv2d_51[0][0]                  \n",
      "==================================================================================================\n",
      "Total params: 34,513,345\n",
      "Trainable params: 34,513,345\n",
      "Non-trainable params: 0\n",
      "__________________________________________________________________________________________________\n"
     ]
    }
   ],
   "source": [
    "model = UNet((256,256,3))\n",
    "model.summary()"
   ]
  },
  {
   "cell_type": "code",
   "execution_count": 11,
   "metadata": {},
   "outputs": [],
   "source": [
    "import os\n",
    "import cv2 \n",
    "from pathlib import Path\n",
    "import numpy as np \n",
    "import matplotlib.pyplot as plt"
   ]
  },
  {
   "cell_type": "code",
   "execution_count": 12,
   "metadata": {},
   "outputs": [],
   "source": [
    "SIZE = (256, 256)\n",
    "images = []\n",
    "masks = []"
   ]
  },
  {
   "cell_type": "code",
   "execution_count": 13,
   "metadata": {},
   "outputs": [],
   "source": [
    "def fix_mask(mask):\n",
    "    mask[mask < 100] = 0.0\n",
    "    mask[mask >= 100] = 255.0\n",
    "\n",
    "def draw_image_gray(img):\n",
    "    plt.imshow(img,cmap='gray')\n",
    "    plt.show()\n",
    "    \n",
    "def draw_image_rgb(img):\n",
    "    plt.imshow(img)\n",
    "    plt.show()\n",
    "    \n",
    "def preprocess_rgb(img):\n",
    "    img = img[:,:,:3]\n",
    "    img = cv2.resize(img, SIZE)\n",
    "    img = img/255.\n",
    "    images.append(img)\n",
    "    \n",
    "def preprocess_gray(mask):\n",
    "    mask = mask[:,:,:3]\n",
    "    mask = cv2.cvtColor(mask, cv2.COLOR_BGR2GRAY)\n",
    "    fix_mask(mask)\n",
    "    mask = cv2.resize(mask, SIZE)\n",
    "    mask = mask/255.\n",
    "    mask = np.expand_dims(mask, axis=2)\n",
    "    masks.append(mask)"
   ]
  },
  {
   "cell_type": "code",
   "execution_count": 14,
   "metadata": {},
   "outputs": [],
   "source": [
    "p = Path(\"Desktop/SRIB/img\")\n",
    "\n",
    "cnt = 0\n",
    "for i in sorted(p.glob(\"*.jpg\")):\n",
    "    string = str(i)\n",
    "    img = cv2.imread(string)\n",
    "    np_img = np.array(img)\n",
    "    preprocess_rgb(np_img)\n",
    "    cnt += 1\n",
    "\n",
    "cnt1 = 0\n",
    "for i in sorted(p.glob(\"*.png\")):\n",
    "    string = str(i)\n",
    "    np_mask = cv2.imread(string)\n",
    "    preprocess_gray(np_mask)\n",
    "    cnt1 += 1\n",
    "\n",
    "p = Path(\"Desktop/SRIB/ShadowImages\")\n",
    "for i in sorted(p.glob(\"*.jpg\")):\n",
    "    string = str(i)\n",
    "    img = cv2.imread(string)\n",
    "    np_img = np.array(img)\n",
    "    preprocess_rgb(np_img)\n",
    "    cnt += 1\n",
    "\n",
    "p = Path(\"Desktop/SRIB/ShadowMasks\")\n",
    "for i in sorted(p.glob(\"*.png\")):\n",
    "    string = str(i)\n",
    "    np_mask = cv2.imread(string)\n",
    "    preprocess_gray(np_mask)\n",
    "    cnt1 += 1\n",
    "\n",
    "X = np.array(images)\n",
    "Y = np.array(masks)"
   ]
  },
  {
   "cell_type": "code",
   "execution_count": 15,
   "metadata": {},
   "outputs": [
    {
     "name": "stdout",
     "output_type": "stream",
     "text": [
      "(4440, 256, 256, 3)\n",
      "(4440, 256, 256, 1)\n"
     ]
    }
   ],
   "source": [
    "print(X.shape)\n",
    "print(Y.shape)"
   ]
  },
  {
   "cell_type": "code",
   "execution_count": 21,
   "metadata": {},
   "outputs": [
    {
     "name": "stderr",
     "output_type": "stream",
     "text": [
      "C:\\Anaconda\\lib\\site-packages\\keras\\callbacks.py:1065: UserWarning: `epsilon` argument is deprecated and will be removed, use `min_delta` instead.\n",
      "  warnings.warn('`epsilon` argument is deprecated and '\n"
     ]
    }
   ],
   "source": [
    "from keras.callbacks import EarlyStopping, ReduceLROnPlateau, ModelCheckpoint\n",
    "earlystopper = EarlyStopping(monitor='val_loss',\n",
    "                             patience=8,\n",
    "                             verbose=1,\n",
    "                             min_delta=1e-4)\n",
    "\n",
    "reducelronplateau = ReduceLROnPlateau(monitor='val_loss',\n",
    "                                      factor=0.1,\n",
    "                                      patience=4,\n",
    "                                      verbose=1,\n",
    "                                      epsilon=1e-4)\n",
    "\n",
    "checkpointer = ModelCheckpoint(monitor='val_loss',\n",
    "                               filepath='best_weights_new1.hdf5',\n",
    "                               verbose=1,\n",
    "                               save_best_only=True,\n",
    "                               save_weights_only=True)"
   ]
  },
  {
   "cell_type": "code",
   "execution_count": null,
   "metadata": {},
   "outputs": [
    {
     "name": "stdout",
     "output_type": "stream",
     "text": [
      "Train on 3996 samples, validate on 444 samples\n",
      "Epoch 1/50\n",
      "3996/3996 [==============================] - 547s 137ms/step - loss: 0.3400 - val_loss: 0.2424\n",
      "\n",
      "Epoch 00001: val_loss improved from inf to 0.24241, saving model to best_weights_new1.hdf5\n",
      "Epoch 2/50\n",
      "3996/3996 [==============================] - 497s 124ms/step - loss: 0.2259 - val_loss: 0.2271\n",
      "\n",
      "Epoch 00002: val_loss improved from 0.24241 to 0.22714, saving model to best_weights_new1.hdf5\n",
      "Epoch 3/50\n",
      "3996/3996 [==============================] - 497s 124ms/step - loss: 0.2047 - val_loss: 0.1875\n",
      "\n",
      "Epoch 00003: val_loss improved from 0.22714 to 0.18745, saving model to best_weights_new1.hdf5\n",
      "Epoch 4/50\n",
      "3996/3996 [==============================] - 498s 125ms/step - loss: 0.1894 - val_loss: 0.1743\n",
      "\n",
      "Epoch 00004: val_loss improved from 0.18745 to 0.17434, saving model to best_weights_new1.hdf5\n",
      "Epoch 5/50\n",
      "3996/3996 [==============================] - 497s 124ms/step - loss: 0.1867 - val_loss: 0.1766\n",
      "\n",
      "Epoch 00005: val_loss did not improve from 0.17434\n",
      "Epoch 6/50\n",
      "2304/3996 [================>.............] - ETA: 3:23 - loss: 0.1776"
     ]
    }
   ],
   "source": [
    "from keras.optimizers import *\n",
    "model.compile(Adam(lr = 1e-4), loss = 'binary_crossentropy')\n",
    "model.fit(X, Y, validation_split=0.1, batch_size=32, epochs=50, callbacks=[earlystopper, checkpointer, reducelronplateau])"
   ]
  },
  {
   "cell_type": "code",
   "execution_count": null,
   "metadata": {},
   "outputs": [],
   "source": []
  }
 ],
 "metadata": {
  "kernelspec": {
   "display_name": "Python 3",
   "language": "python",
   "name": "python3"
  },
  "language_info": {
   "codemirror_mode": {
    "name": "ipython",
    "version": 3
   },
   "file_extension": ".py",
   "mimetype": "text/x-python",
   "name": "python",
   "nbconvert_exporter": "python",
   "pygments_lexer": "ipython3",
   "version": "3.6.5"
  }
 },
 "nbformat": 4,
 "nbformat_minor": 2
}
